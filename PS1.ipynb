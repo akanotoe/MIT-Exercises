{
 "cells": [
  {
   "cell_type": "markdown",
   "metadata": {},
   "source": [
    "# Problem Set 1\n",
    "### Name: Alexander Chartrand\n",
    "### Time: 1/2 hour"
   ]
  },
  {
   "cell_type": "markdown",
   "metadata": {},
   "source": [
    "## Problem 1\n",
    "Write a program that computes and prints the 1000th prime number."
   ]
  },
  {
   "cell_type": "code",
   "execution_count": 1,
   "metadata": {},
   "outputs": [],
   "source": [
    "import numpy as np"
   ]
  },
  {
   "cell_type": "code",
   "execution_count": 2,
   "metadata": {},
   "outputs": [
    {
     "name": "stdout",
     "output_type": "stream",
     "text": [
      "7919\n"
     ]
    }
   ],
   "source": [
    "primes = [2,3,5]\n",
    "p=7\n",
    "while len(primes) < 1000:\n",
    "    i = 2\n",
    "    prime = True\n",
    "    while i <= np.sqrt(p):\n",
    "        if p % i == 0:\n",
    "            prime = False\n",
    "        i = i + 1\n",
    "    if prime == True:\n",
    "        primes.append(p)\n",
    "    p = p + 2\n",
    "print(primes[999])"
   ]
  },
  {
   "cell_type": "markdown",
   "metadata": {},
   "source": [
    "## Problem 2\n",
    "Write a program that computes the sum of the logarithms of all the primes from $2$ to some number $n$, and print out the sum of the logs of the primes, the number $n$, and the ratio of these two quantities.  Test this for different values of $n$."
   ]
  },
  {
   "cell_type": "code",
   "execution_count": 3,
   "metadata": {},
   "outputs": [],
   "source": [
    "def prime_sum(n):\n",
    "    logp_sum = 0\n",
    "    for i in range(n):\n",
    "        logp_sum = logp_sum + np.log(primes[i])\n",
    "    return logp_sum"
   ]
  },
  {
   "cell_type": "code",
   "execution_count": 4,
   "metadata": {},
   "outputs": [
    {
     "name": "stdout",
     "output_type": "stream",
     "text": [
      "7.745002803515839 0.7040911639559854\n",
      "505.8162331260092 0.9349653107689634\n",
      "7812.283540732839 0.9865239980720848\n"
     ]
    }
   ],
   "source": [
    "# print(\"$\\sum_n=1^N \\\\ln p_n$\", \"$\\\\dfrac{1}{p_n}$\\sum_n=1^N \\\\ln p_n$\")\n",
    "for i in [5, 100, 1000]:\n",
    "    print(prime_sum(i), prime_sum(i)/primes[i-1])"
   ]
  },
  {
   "cell_type": "code",
   "execution_count": 5,
   "metadata": {},
   "outputs": [],
   "source": [
    "from matplotlib import pyplot as plt\n",
    "plt.rc('text', usetex=True)\n",
    "plt.rc('font', family='serif', size = 14)"
   ]
  },
  {
   "cell_type": "code",
   "execution_count": 6,
   "metadata": {},
   "outputs": [
    {
     "data": {
      "text/plain": [
       "Text(0, 0.5, '$\\\\displaystyle\\\\frac{1}{p_N}\\\\sum_{n=1}^N \\\\ln(p_n)$')"
      ]
     },
     "execution_count": 6,
     "metadata": {},
     "output_type": "execute_result"
    },
    {
     "data": {
      "image/png": "[encoded data removed]",
      "text/plain": [
       "<Figure size 432x288 with 1 Axes>"
      ]
     },
     "metadata": {
      "needs_background": "light"
     },
     "output_type": "display_data"
    }
   ],
   "source": [
    "n = np.arange(1000)\n",
    "psum = []\n",
    "for i in n:\n",
    "    psum.append(prime_sum(i+1)/primes[i])\n",
    "plt.figure()\n",
    "plt.plot(n, psum, 'k.-')\n",
    "plt.xlabel('$n^{\\\\rm th}$ prime number')\n",
    "plt.ylabel('$\\\\displaystyle\\\\frac{1}{p_N}\\\\sum_{n=1}^N \\ln(p_n)$', rotation = 'horizontal', labelpad = 50)"
   ]
  },
  {
   "cell_type": "code",
   "execution_count": null,
   "metadata": {},
   "outputs": [],
   "source": []
  }
 ],
 "metadata": {
  "kernelspec": {
   "display_name": "Python 3",
   "language": "python",
   "name": "python3"
  },
  "language_info": {
   "codemirror_mode": {
    "name": "ipython",
    "version": 3
   },
   "file_extension": ".py",
   "mimetype": "text/x-python",
   "name": "python",
   "nbconvert_exporter": "python",
   "pygments_lexer": "ipython3",
   "version": "3.8.3"
  }
 },
 "nbformat": 4,
 "nbformat_minor": 4
}
