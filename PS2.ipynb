{
 "cells": [
  {
   "cell_type": "markdown",
   "metadata": {},
   "source": [
    "# Problem Set 2\n",
    "### Name: Alexander Chartrand\n",
    "### Time: 1 hour"
   ]
  },
  {
   "cell_type": "markdown",
   "metadata": {},
   "source": [
    "## Problem 1\n",
    "Show that it is possible to buy exactly 50, 51, 52, 53, 54, and 55 McNuggets, by finding solutions to the Diophantine equation.  You can solve this in your head, using paper and pencil, or writing a program.  However you chose to solve this problem, list the combinations of 6, 9 and 20 packs of McNuggets you need to buy in order to get each of the exact amounts."
   ]
  },
  {
   "cell_type": "markdown",
   "metadata": {},
   "source": [
    "Equation:\n",
    "$n = 6a + 9 b + 20 c$\n",
    "\n",
    "Solutions:\n",
    "\n",
    "$n = 50 = 30 + 20 = 6\\times5 + 9\\times0 + 20\\times1$\n",
    "\n",
    "$n = 51 =  6 + 45 = 6\\times1 + 9\\times5 + 20\\times0 = 6\\times 4 + 9\\times 3 + 20\\times 0 = 6\\times 7 + 9\\times 1 + 20\\times 0$\n",
    "\n",
    "$n = 52 = 12 + 40 = 6\\times2 + 9\\times0 + 20\\times2$\n",
    "\n",
    "$n = 53 = 6 + 27 + 20 = 6\\times1 + 9\\times3 + 20\\times1 = 6\\times 4 + 9\\times 1 + 20\\times 1$\n",
    "\n",
    "$n = 54 = 6\\times0 + 9\\times6 + 20\\times0 = 6\\times 3 + 9\\times 4 + 20\\times 0 = 6\\times 6 + 9\\times 2 + 20\\times 0 = 6\\times 9 + 9\\times 0 + 20\\times 0$\n",
    "\n",
    "$n = 55 = 6 + 9 + 40 = 6\\times 1 + 9\\times 1 +20\\times 2$"
   ]
  },
  {
   "cell_type": "markdown",
   "metadata": {},
   "source": [
    "## Problem 2\n",
    "#### Theorem:  If it is possible to buy $x, x+1, \\dots, x+5$ sets of McNuggets, for some $x$, then it is possible to buy any number of McNuggets $\\ge x$, given that McNuggets come in 6, 9 and 20 packs.\n",
    "\n",
    "Explain, in English, why this theorem is true."
   ]
  },
  {
   "cell_type": "markdown",
   "metadata": {},
   "source": [
    "Answer: Because the smallest increment is 6, if $x$ is possible to purchase, then $x+6$ is possible. But we also know that $x+1$ through $x+5$ are possible, which means with those base numbers, all higher numbers are possible to purchase."
   ]
  },
  {
   "cell_type": "markdown",
   "metadata": {},
   "source": [
    "## Problem 3\n",
    "Write an iterative program that finds the largest number of McNuggets that cannot be bought in exact quantity.  Your program should print the answer in the following format (where the correct number is provided in place of $\\langle n\\rangle$): \"Largest number of McNuggets that cannot be bought in exact quantity: $\\langle n\\rangle$\""
   ]
  },
  {
   "cell_type": "code",
   "execution_count": 1,
   "metadata": {},
   "outputs": [
    {
     "name": "stdout",
     "output_type": "stream",
     "text": [
      "Largest number of McNuggets that cannot be bought in exact quantity: 49\n"
     ]
    }
   ],
   "source": [
    "nug = []\n",
    "for a in range(9):\n",
    "    for b in range(6):\n",
    "        for c in range(2):\n",
    "            nugsum = 6*a + 9*b + 20*c\n",
    "            if nugsum < 50 and nugsum != 0:\n",
    "                nug.append(nugsum)\n",
    "nonnug =[]\n",
    "for i in range(50):\n",
    "    test = True\n",
    "    for n in nug:\n",
    "        if i == n:\n",
    "            test = False\n",
    "    if test == True:\n",
    "        nonnug.append(i)\n",
    "        num = i\n",
    "print(\"Largest number of McNuggets that cannot be bought in exact quantity:\", num)"
   ]
  },
  {
   "cell_type": "code",
   "execution_count": 2,
   "metadata": {},
   "outputs": [
    {
     "name": "stdout",
     "output_type": "stream",
     "text": [
      "[0, 1, 2, 3, 4, 5, 7, 8, 10, 11, 13, 14, 16, 17, 19, 22, 23, 25, 28, 31, 34, 37, 40, 43, 46, 49]\n"
     ]
    }
   ],
   "source": [
    "print(nonnug)"
   ]
  },
  {
   "cell_type": "markdown",
   "metadata": {},
   "source": [
    "## Problem 4\n",
    "Assume that the variable `packages` is bound to a tuple of length 3, the values of which specify the sizes of the packages, ordered from smallest to largest. Write a program that uses exhaustive search to find the largest number (less than 200) of McNuggets that cannot be bought in exact quantity.  We limit the number to be less than 200 (although this is an arbitrary choice) because in some cases there is no largest value that cannot be bought in exact quantity, and we don’t want to search forever.  Please use ps2b_template.py to structure your code.  Have your code print out its result in the following format:\n",
    "“Given package sizes $\\langle x\\rangle$, $\\langle y\\rangle$, and $\\langle z\\rangle$, the largest number of McNuggets that cannot be bought in exact quantity is: <n>” Test your program on a variety of choices, by changing the value for packages.  Include the case (6,9,20), as well as some other test cases of your own choosing."
   ]
  },
  {
   "cell_type": "code",
   "execution_count": 3,
   "metadata": {},
   "outputs": [
    {
     "name": "stdout",
     "output_type": "stream",
     "text": [
      "Given package sizes 5, 11, and 23, the largest number of McNuggets that cannot be bought in exact quantity is: 29\n"
     ]
    }
   ],
   "source": [
    "###\n",
    "### template of code for Problem 4 of Problem Set 2, Fall 2008\n",
    "###\n",
    "\n",
    "bestSoFar = 0     # variable that keeps track of largest number\n",
    "                  # of McNuggets that cannot be bought in exact quantity\n",
    "packages = (5,11,23)   # variable that contains package sizes\n",
    "\n",
    "nugmax = 200\n",
    "nug = []\n",
    "for a in range(int(nugmax/packages[0])+1):\n",
    "    for b in range(int(nugmax/packages[1])+1):\n",
    "        for c in range(int(nugmax/packages[2])+1):\n",
    "            nugsum = packages[0]*a + packages[1]*b + packages[2]*c\n",
    "            if nugsum < nugmax and nugsum != 0:\n",
    "                nug.append(nugsum)\n",
    "nonnug =[]\n",
    "for i in range(nugmax):\n",
    "    test = True\n",
    "    for n in nug:\n",
    "        if i == n:\n",
    "            test = False\n",
    "    if test == True:\n",
    "        nonnug.append(i)\n",
    "        num = i\n",
    "print(\"Given package sizes %d, %d, and %d, the largest number of McNuggets that cannot be bought in exact quantity is:\" % packages, num)"
   ]
  },
  {
   "cell_type": "code",
   "execution_count": 4,
   "metadata": {},
   "outputs": [
    {
     "name": "stdout",
     "output_type": "stream",
     "text": [
      "[0, 1, 2, 3, 4, 6, 7, 8, 9, 12, 13, 14, 17, 18, 19, 24, 29]\n"
     ]
    }
   ],
   "source": [
    "print(nonnug)"
   ]
  },
  {
   "cell_type": "code",
   "execution_count": null,
   "metadata": {},
   "outputs": [],
   "source": []
  }
 ],
 "metadata": {
  "kernelspec": {
   "display_name": "Python 3",
   "language": "python",
   "name": "python3"
  },
  "language_info": {
   "codemirror_mode": {
    "name": "ipython",
    "version": 3
   },
   "file_extension": ".py",
   "mimetype": "text/x-python",
   "name": "python",
   "nbconvert_exporter": "python",
   "pygments_lexer": "ipython3",
   "version": "3.8.1"
  }
 },
 "nbformat": 4,
 "nbformat_minor": 4
}
